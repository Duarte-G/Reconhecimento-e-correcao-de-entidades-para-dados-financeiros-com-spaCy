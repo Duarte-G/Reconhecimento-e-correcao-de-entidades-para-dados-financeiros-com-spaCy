{
 "cells": [
  {
   "cell_type": "code",
   "execution_count": 59,
   "id": "100a0d66-2d3c-42a1-aeb3-922c161d4146",
   "metadata": {},
   "outputs": [],
   "source": [
    "import spacy\n",
    "from spacy.matcher import Matcher\n",
    "from spacy.language import Language\n",
    "import pandas as pd\n",
    "from spacy.tokens import Span"
   ]
  },
  {
   "cell_type": "code",
   "execution_count": 67,
   "id": "c3692272-9d00-435c-a8cf-5f46dd4182c5",
   "metadata": {},
   "outputs": [],
   "source": [
    "# Carregar os dados\n",
    "df = pd.read_csv(\"data/stocks.tsv\", sep=\"\\t\")\n",
    "df2 = pd.read_csv(\"data/indexes.tsv\", sep=\"\\t\")\n",
    "df3 = pd.read_csv(\"data/stock_exchanges.tsv\", sep=\"\\t\")"
   ]
  },
  {
   "cell_type": "code",
   "execution_count": 68,
   "id": "f908c563-fb3e-488b-9f07-4a3a8b04d1ba",
   "metadata": {},
   "outputs": [],
   "source": [
    "symbols = df.Symbol.tolist()\n",
    "companies = df.CompanyName.tolist()\n",
    "indexes = df2.IndexName.tolist()\n",
    "index_symbols = df2.IndexSymbol.tolist()\n",
    "exchanges = df3.ISOMIC.fillna(\"\").tolist() + df3[\"Google Prefix\"].fillna(\"\").tolist() + df3.Description.fillna(\"\").tolist()"
   ]
  },
  {
   "cell_type": "code",
   "execution_count": 102,
   "id": "a3a75526-f6be-4f2f-8599-629bb10637fb",
   "metadata": {},
   "outputs": [],
   "source": [
    "stops = [\"two\"]\n",
    "nlp = spacy.blank(\"en\")\n",
    "nlp.add_pipe(\"sentencizer\")\n",
    "ruler = nlp.add_pipe(\"entity_ruler\")\n",
    "letters = \"ABCDEFGHIJKLMNOPQRSTUVVWXYZ\"\n",
    "patterns = []\n",
    "\n",
    "# Padrões para índices (INDEX)\n",
    "for index in indexes:\n",
    "    if \"S&P\" in index:\n",
    "        patterns.append({\"label\": \"INDEX\", \"pattern\": \"S&P\"})\n",
    "    if \"Dow Jones\" in index:\n",
    "        patterns.append({\"label\": \"INDEX\", \"pattern\": \"Dow Jones\"})\n",
    "    else:\n",
    "        patterns.append({\"label\": \"INDEX\", \"pattern\": index})\n",
    "        words = index.split()\n",
    "        patterns.append({\"label\": \"INDEX\", \"pattern\": \" \".join(words[:2])})\n",
    "\n",
    "# Padrões para símbolos de índices\n",
    "for index in index_symbols:\n",
    "    patterns.append({\"label\": \"INDEX\", \"pattern\": index})\n",
    "\n",
    "# Padrões para bolsas de valores (STOCK_EXCHANGE)\n",
    "for e in exchanges:\n",
    "    patterns.append({\"label\": \"STOCK_EXCHANGE\", \"pattern\": e})"
   ]
  },
  {
   "cell_type": "code",
   "execution_count": 103,
   "id": "6e7d83d9-3440-415d-9836-9878797808d5",
   "metadata": {},
   "outputs": [],
   "source": [
    "# Correção: Evitar que \"Nasdaq\" seja classificado como uma COMPANY\n",
    "for symbol in df[\"Symbol\"].tolist():\n",
    "    patterns.append({\"label\": \"STOCK\", \"pattern\": symbol})\n",
    "    for l in letters:\n",
    "        patterns.append({\"label\": \"STOCK\", \"pattern\": symbol + f\".{l}\"})\n",
    "\n",
    "for company in df[\"CompanyName\"].tolist():\n",
    "    if company not in stops and company != \"Nasdaq\":\n",
    "        patterns.append({\"label\": \"COMPANY\", \"pattern\": company})\n",
    "\n",
    "# Garantir que não existam valores nulos ao processar exchanges\n",
    "for e in exchanges:\n",
    "    if \"Nasdaq\" in e:\n",
    "        patterns.append({\"label\": \"STOCK_EXCHANGE\", \"pattern\": \"Nasdaq\"})\n",
    "    else:\n",
    "        patterns.append({\"label\": \"STOCK_EXCHANGE\", \"pattern\": e})"
   ]
  },
  {
   "cell_type": "code",
   "execution_count": 104,
   "id": "78cca9f9-3b78-48ae-b3c7-d091f10d24a8",
   "metadata": {},
   "outputs": [],
   "source": [
    "ruler.add_patterns(patterns)"
   ]
  },
  {
   "cell_type": "code",
   "execution_count": 105,
   "id": "56178d6f-16b1-4ebc-95b0-67b81a54f21c",
   "metadata": {},
   "outputs": [],
   "source": [
    "#source: https://www.reuters.com/business/futures-rise-after-biden-xi-call-oil-bounce-2021-09-10/\n",
    "text = '''\n",
    "Sept 10 (Reuters) - Wall Street's main indexes were subdued on Friday as signs of higher inflation and a drop in Apple shares following an unfavorable court ruling offset expectations of an easing in U.S.-China tensions.\n",
    "\n",
    "Data earlier in the day showed U.S. producer prices rose solidly in August, leading to the biggest annual gain in nearly 11 years and indicating that high inflation was likely to persist as the pandemic pressures supply chains. read more .\n",
    "\n",
    "\"Today's data on wholesale prices should be eye-opening for the Federal Reserve, as inflation pressures still don't appear to be easing and will likely continue to be felt by the consumer in the coming months,\" said Charlie Ripley, senior investment strategist for Allianz Investment Management.\n",
    "\n",
    "Apple Inc (AAPL.O) fell 2.7% following a U.S. court ruling in \"Fortnite\" creator Epic Games' antitrust lawsuit that stroke down some of the iPhone maker's restrictions on how developers can collect payments in apps.\n",
    "\n",
    "\n",
    "Sponsored by Advertising Partner\n",
    "Sponsored Video\n",
    "Watch to learn more\n",
    "Report ad\n",
    "Apple shares were set for their worst single-day fall since May this year, weighing on the Nasdaq (.IXIC) and the S&P 500 technology sub-index (.SPLRCT), which fell 0.1%.\n",
    "\n",
    "Sentiment also took a hit from Cleveland Federal Reserve Bank President Loretta Mester's comments that she would still like the central bank to begin tapering asset purchases this year despite the weak August jobs report. read more\n",
    "\n",
    "Investors have paid keen attention to the labor market and data hinting towards higher inflation recently for hints on a timeline for the Federal Reserve to begin tapering its massive bond-buying program.\n",
    "\n",
    "The S&P 500 has risen around 19% so far this year on support from dovish central bank policies and re-opening optimism, but concerns over rising coronavirus infections and accelerating inflation have lately stalled its advance.\n",
    "\n",
    "\n",
    "Report ad\n",
    "The three main U.S. indexes got some support on Friday from news of a phone call between U.S. President Joe Biden and Chinese leader Xi Jinping that was taken as a positive sign which could bring a thaw in ties between the world's two most important trading partners.\n",
    "\n",
    "At 1:01 p.m. ET, the Dow Jones Industrial Average (.DJI) was up 12.24 points, or 0.04%, at 34,891.62, the S&P 500 (.SPX) was up 2.83 points, or 0.06%, at 4,496.11, and the Nasdaq Composite (.IXIC) was up 12.85 points, or 0.08%, at 15,261.11.\n",
    "\n",
    "Six of the eleven S&P 500 sub-indexes gained, with energy (.SPNY), materials (.SPLRCM) and consumer discretionary stocks (.SPLRCD) rising the most.\n",
    "\n",
    "U.S.-listed Chinese e-commerce companies Alibaba and JD.com , music streaming company Tencent Music (TME.N) and electric car maker Nio Inc (NIO.N) all gained between 0.7% and 1.4%\n",
    "\n",
    "\n",
    "Report ad\n",
    "Grocer Kroger Co (KR.N) dropped 7.1% after it said global supply chain disruptions, freight costs, discounts and wastage would hit its profit margins.\n",
    "\n",
    "Advancing issues outnumbered decliners by a 1.12-to-1 ratio on the NYSE and by a 1.02-to-1 ratio on the Nasdaq.\n",
    "\n",
    "The S&P index recorded 14 new 52-week highs and three new lows, while the Nasdaq recorded 49 new highs and 38 new lows.\n",
    "'''"
   ]
  },
  {
   "cell_type": "code",
   "execution_count": 106,
   "id": "69633680-09e3-40e0-a8c7-c81a75e82b10",
   "metadata": {},
   "outputs": [
    {
     "name": "stdout",
     "output_type": "stream",
     "text": [
      "Apple COMPANY\n",
      "Apple COMPANY\n",
      "AAPL.O STOCK\n",
      "Apple COMPANY\n",
      "Nasdaq STOCK_EXCHANGE\n",
      "S&P 500 INDEX\n",
      "S&P 500 INDEX\n",
      "ET STOCK\n",
      "Dow Jones INDEX\n",
      "S&P 500 INDEX\n",
      "Nasdaq STOCK_EXCHANGE\n",
      "S&P 500 INDEX\n",
      "JD.com COMPANY\n",
      "TME.N STOCK\n",
      "NIO.N STOCK\n",
      "Kroger COMPANY\n",
      "KR.N STOCK\n",
      "NYSE STOCK_EXCHANGE\n",
      "Nasdaq STOCK_EXCHANGE\n",
      "S&P INDEX\n",
      "Nasdaq STOCK_EXCHANGE\n"
     ]
    }
   ],
   "source": [
    "doc = nlp(text)\n",
    "for ent in doc.ents:\n",
    "    print(ent.text, ent.label_)"
   ]
  },
  {
   "cell_type": "code",
   "execution_count": null,
   "id": "24e92b9e-e8d3-47f6-a6a9-90436b5d3eb6",
   "metadata": {},
   "outputs": [],
   "source": []
  }
 ],
 "metadata": {
  "kernelspec": {
   "display_name": "Python 3 (ipykernel)",
   "language": "python",
   "name": "python3"
  },
  "language_info": {
   "codemirror_mode": {
    "name": "ipython",
    "version": 3
   },
   "file_extension": ".py",
   "mimetype": "text/x-python",
   "name": "python",
   "nbconvert_exporter": "python",
   "pygments_lexer": "ipython3",
   "version": "3.12.4"
  }
 },
 "nbformat": 4,
 "nbformat_minor": 5
}
